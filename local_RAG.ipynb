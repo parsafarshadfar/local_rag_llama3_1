{
 "cells": [
  {
   "cell_type": "markdown",
   "id": "d4d5cab6-515e-4dd6-95ae-6393f0c4435c",
   "metadata": {},
   "source": [
    "## Loading PDF"
   ]
  },
  {
   "cell_type": "code",
   "execution_count": 2,
   "id": "c2e8b999-83ba-484a-9b94-f56c201d2036",
   "metadata": {},
   "outputs": [
    {
     "name": "stdout",
     "output_type": "stream",
     "text": [
      "Note: you may need to restart the kernel to use updated packages.\n",
      "Note: you may need to restart the kernel to use updated packages.\n"
     ]
    }
   ],
   "source": [
    "%pip install --q unstructured langchain\n",
    "%pip install --q \"unstructured[all-docs]\""
   ]
  },
  {
   "cell_type": "code",
   "execution_count": 3,
   "id": "3c0e2f74-7c4b-4665-8d87-bc00656f31e0",
   "metadata": {},
   "outputs": [],
   "source": [
    "from langchain_community.document_loaders import UnstructuredPDFLoader\n",
    "from langchain_community.document_loaders import OnlinePDFLoader"
   ]
  },
  {
   "cell_type": "code",
   "execution_count": 4,
   "id": "104c0b18-1c06-41a1-a2ca-f9ee23f4f952",
   "metadata": {},
   "outputs": [],
   "source": [
    "#PDF file address\n",
    "local_path = \"Iran_Natural_Environment.pdf\" #it is a local pdf file in the same folder\n",
    "\n",
    "# Local PDF file uploads\n",
    "if local_path:\n",
    "  loader = UnstructuredPDFLoader(file_path=local_path)\n",
    "  data = loader.load()"
   ]
  },
  {
   "cell_type": "code",
   "execution_count": 5,
   "id": "38119195-9c91-4e58-aa46-8a74244032af",
   "metadata": {
    "scrolled": true
   },
   "outputs": [
    {
     "data": {
      "text/plain": [
       "\"Natural Environment in Iran - Overview\\n\\nIran's Natural Environment\\n\\nIran is a diverse country in terms of natural landscapes, ecosystems, and climate zones. The geography of Iran includes deserts, mountains, forests, and coastal regions, each supporting unique flora and fauna. This document covers key aspects of Iran’s natural environment, highlighting the various ecosystems, climatic conditions, and conservation challenges.\\n\\n1. Geographical Location: - Iran is located in the Middle East, bordered by the Caspian Sea to the north and the Persian Gulf to the south. - Its landscape includes mountain ranges, such as the Zagros and Alborz mountains, as well as large desert areas.\\n\\n2. Climate Zones: - Iran experiences a wide range of climates, from arid and semi-arid conditions in central deserts to humid and temperate climates along the Caspian Sea coast.\\n\\n3. Biodiversity: - Iran is home to a diverse range of plant and animal species, including the Persian leopard, Caspian seals, and a variety of migratory birds.\\n\\nThis document aims to provide insights into Iran’s natural environment for educational and research purposes.\\n\\nIran's Forests and Mountain Ecosystems\\n\\nForests and Mountain Ecosystems in Iran\\n\\n1. Caspian Hyrcanian Mixed Forests: - Located along the Caspian Sea coast, these ancient forests are known for their rich biodiversity. - They contain species such as beech, oak, and elm trees, as well as diverse animal life.\\n\\n2. Zagros Mountains: - The Zagros mountain range spans from northwest to southeast Iran, providing a habitat for wild goats, brown bears, and many bird species. - This region is significant for its biodiversity, including many plant species found only in Iran.\\n\\n3. Alborz Mountains: - These mountains include the highest peak in Iran, Mount Damavand. - They support alpine vegetation and unique animal species adapted to high altitudes.\\n\\nForests and mountainous areas are important for biodiversity conservation in Iran, offering a range of habitats and supporting several endangered species.\\n\\nDeserts and Coastal Ecosystems of Iran\\n\\nDeserts and Coastal Ecosystems in Iran\\n\\n1. Central Deserts (Dasht-e Kavir and Dasht-e Lut): - The Dasht-e Kavir and Dasht-e Lut are Iran's two largest deserts, characterized by extreme arid conditions. - These deserts support hardy plant species and animals adapted to harsh conditions, like camels, gazelles, and sand cats.\\n\\n2. Coastal Ecosystems: - Iran's coastlines along the Persian Gulf and the Caspian Sea feature marine and coastal biodiversity. - The Persian Gulf is rich in coral reefs, mangroves, and fish species, whereas the Caspian Sea supports species like the Caspian seal and sturgeons.\\n\\n3. Environmental Challenges: - Desertification, habitat loss, and climate change pose serious challenges to Iran's natural environment. - Efforts are underway to combat these issues through national conservation programs and international cooperation.\""
      ]
     },
     "execution_count": 5,
     "metadata": {},
     "output_type": "execute_result"
    }
   ],
   "source": [
    "# Preview first page\n",
    "data[0].page_content"
   ]
  },
  {
   "cell_type": "markdown",
   "id": "c2faacc1-be29-4d52-a46e-94f5b5b8e728",
   "metadata": {},
   "source": [
    "## Vector Embeddings"
   ]
  },
  {
   "cell_type": "code",
   "execution_count": 6,
   "id": "2dcf2cfe-a7aa-4ecf-85e3-f77b9e850514",
   "metadata": {
    "scrolled": true
   },
   "outputs": [
    {
     "data": {
      "text/plain": [
       "{'status': 'success'}"
      ]
     },
     "execution_count": 6,
     "metadata": {},
     "output_type": "execute_result"
    }
   ],
   "source": [
    "import ollama\n",
    "\n",
    "#donwload 'nomic-embed-text' from ollama to embed the pdf text\n",
    "ollama.pull('nomic-embed-text')"
   ]
  },
  {
   "cell_type": "markdown",
   "id": "6e6798b0",
   "metadata": {},
   "source": [
    "List of the downloaded models in your PC:"
   ]
  },
  {
   "cell_type": "code",
   "execution_count": 7,
   "id": "39aebbf8-92bf-42e5-951e-40bb458852d5",
   "metadata": {},
   "outputs": [
    {
     "name": "stdout",
     "output_type": "stream",
     "text": [
      "NAME                       ID              SIZE      MODIFIED               \n",
      "nomic-embed-text:latest    0a109f422b47    274 MB    Less than a second ago    \n",
      "phi3:14b                   cf611a26b048    7.9 GB    About an hour ago         \n",
      "llama3.1:latest            42182419e950    4.7 GB    About an hour ago         \n"
     ]
    }
   ],
   "source": [
    "!ollama list\n"
   ]
  },
  {
   "cell_type": "markdown",
   "id": "c114b9a8",
   "metadata": {},
   "source": [
    "Chunk the PDF text using a suitable size for the model and provide an overlap between chunks to avoid the contexual issues due to the mid-word slicing"
   ]
  },
  {
   "cell_type": "code",
   "execution_count": 8,
   "id": "83a39856-0cc0-4ebe-8024-9db32455a545",
   "metadata": {},
   "outputs": [],
   "source": [
    "from langchain_community.embeddings import OllamaEmbeddings\n",
    "from langchain_text_splitters import RecursiveCharacterTextSplitter\n",
    "from langchain_community.vectorstores import Chroma"
   ]
  },
  {
   "cell_type": "code",
   "execution_count": 9,
   "id": "bad040e2-3abe-4e23-abb9-951b223b9262",
   "metadata": {},
   "outputs": [],
   "source": [
    "# Split and chunk \n",
    "text_splitter = RecursiveCharacterTextSplitter(chunk_size=7500, chunk_overlap=100)\n",
    "chunks = text_splitter.split_documents(data)"
   ]
  },
  {
   "cell_type": "markdown",
   "id": "d4a2f89a",
   "metadata": {},
   "source": [
    "Create a Chroma vector database from an uploaded PDF file"
   ]
  },
  {
   "cell_type": "code",
   "execution_count": null,
   "id": "efb11c92-e732-4a88-8f57-57a19b38e383",
   "metadata": {},
   "outputs": [],
   "source": [
    "# Add to Chroma vector database\n",
    "vector_db = Chroma.from_documents(\n",
    "    documents=chunks, \n",
    "    embedding=OllamaEmbeddings(model=\"nomic-embed-text\",show_progress=True),\n",
    "    collection_name=\"local-rag\"\n",
    ")"
   ]
  },
  {
   "cell_type": "markdown",
   "id": "39eadf50-2f3d-4420-8858-94e9c1682ffa",
   "metadata": {},
   "source": [
    "## Retrieval"
   ]
  },
  {
   "cell_type": "code",
   "execution_count": null,
   "id": "5ec338c4-f282-462f-b0a0-c1899538eb07",
   "metadata": {},
   "outputs": [],
   "source": [
    "from langchain.prompts import ChatPromptTemplate, PromptTemplate\n",
    "from langchain_core.output_parsers import StrOutputParser\n",
    "from langchain_community.chat_models import ChatOllama\n",
    "from langchain_core.runnables import RunnablePassthrough\n",
    "from langchain.retrievers.multi_query import MultiQueryRetriever"
   ]
  },
  {
   "cell_type": "markdown",
   "id": "477fe9e6",
   "metadata": {},
   "source": [
    "Choose model"
   ]
  },
  {
   "cell_type": "code",
   "execution_count": 511,
   "id": "d1d6ceeb-6883-4688-b923-e771c2b2cb07",
   "metadata": {},
   "outputs": [],
   "source": [
    "# LLM from Ollama\n",
    "local_model = \"llama3.1\"\n",
    "llm = ChatOllama(model=local_model)"
   ]
  },
  {
   "cell_type": "markdown",
   "id": "1ffd3947",
   "metadata": {},
   "source": [
    "Making 5 questions similar to user's given question"
   ]
  },
  {
   "cell_type": "code",
   "execution_count": 512,
   "id": "c436d5cd-5dd0-448c-b5c0-6eddab879c2a",
   "metadata": {},
   "outputs": [],
   "source": [
    "QUERY_PROMPT = PromptTemplate(\n",
    "    input_variables=[\"question\"],\n",
    "    template=\"\"\"You are an AI language model assistant. Your task is to generate five\n",
    "    different versions of the given user question to retrieve relevant documents from\n",
    "    a vector database. By generating multiple perspectives on the user question, your\n",
    "    goal is to help the user overcome some of the limitations of the distance-based\n",
    "    similarity search. Provide these alternative questions separated by newlines.\n",
    "    Original question: {question}\"\"\",\n",
    ")"
   ]
  },
  {
   "cell_type": "markdown",
   "id": "65a70fcf",
   "metadata": {},
   "source": [
    "Retrieving the relevant contents in the vector database"
   ]
  },
  {
   "cell_type": "code",
   "execution_count": 513,
   "id": "71e423dc-f632-46f8-9bec-d74cb268ab74",
   "metadata": {},
   "outputs": [],
   "source": [
    "# RAG retriever to find the relevant contents in the vector database\n",
    "retriever = MultiQueryRetriever.from_llm(\n",
    "    vector_db.as_retriever(), \n",
    "    llm,\n",
    "    prompt=QUERY_PROMPT\n",
    ")\n",
    "\n",
    "# RAG prompt template\n",
    "template = \"\"\"Answer the question based ONLY on the following context:\n",
    "{context}\n",
    "Question: {question}\n",
    "\"\"\"\n",
    "\n",
    "prompt = ChatPromptTemplate.from_template(template)"
   ]
  },
  {
   "cell_type": "markdown",
   "id": "3314a736",
   "metadata": {},
   "source": [
    "Final input to output pipeline"
   ]
  },
  {
   "cell_type": "code",
   "execution_count": 516,
   "id": "cb1f308f-8472-4506-9517-d79b61d408f2",
   "metadata": {},
   "outputs": [],
   "source": [
    "chain = (\n",
    "    {\"context\": retriever, \"question\": RunnablePassthrough()}\n",
    "    | prompt\n",
    "    | llm\n",
    "    | StrOutputParser()\n",
    ")"
   ]
  },
  {
   "cell_type": "markdown",
   "id": "4ec8b46b",
   "metadata": {},
   "source": [
    "Testing the RAG:"
   ]
  },
  {
   "cell_type": "code",
   "execution_count": 3,
   "id": "915fb18b-cb57-42cf-a9b3-c6f95d3c4e32",
   "metadata": {
    "scrolled": true
   },
   "outputs": [],
   "source": [
    "chain.invoke(input(\"\"))"
   ]
  },
  {
   "cell_type": "code",
   "execution_count": 4,
   "id": "06c25c1d-d205-409e-90a2-179d0bd7c41a",
   "metadata": {},
   "outputs": [],
   "source": [
    "chain.invoke(\"what is the PDF about?\")"
   ]
  },
  {
   "cell_type": "markdown",
   "id": "c435eb5d",
   "metadata": {},
   "source": [
    "Delete all the collections from database"
   ]
  },
  {
   "cell_type": "code",
   "execution_count": null,
   "id": "dfe79f21-48aa-4820-aa9f-79f3d1a0a519",
   "metadata": {},
   "outputs": [],
   "source": [
    "# vector_db.delete_collection()"
   ]
  }
 ],
 "metadata": {
  "kernelspec": {
   "display_name": "llm",
   "language": "python",
   "name": "python3"
  },
  "language_info": {
   "codemirror_mode": {
    "name": "ipython",
    "version": 3
   },
   "file_extension": ".py",
   "mimetype": "text/x-python",
   "name": "python",
   "nbconvert_exporter": "python",
   "pygments_lexer": "ipython3",
   "version": "3.10.0"
  }
 },
 "nbformat": 4,
 "nbformat_minor": 5
}
